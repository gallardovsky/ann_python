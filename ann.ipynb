{
 "cells": [
  {
   "cell_type": "code",
   "execution_count": 15,
   "metadata": {},
   "outputs": [],
   "source": [
    "from numba import jit\n",
    "import numpy as np\n",
    "import random as rm\n",
    "import time as t"
   ]
  },
  {
   "cell_type": "markdown",
   "metadata": {},
   "source": [
    "ANN type = feedforward/backpropagation online\n",
    "version 1.0\n",
    "\n",
    "- nx = número de vectores de entrada\n",
    "- neuronEntrada = número de neuronas en la acpa de entrada\n",
    "- neuronEscondida = número de neuronas en la capa de escondida\n",
    "- neuronSalida = número de neuronas en la capa de salida\n",
    "- alpha = razón de aprendizaje\n",
    "- epoch = número de epocas"
   ]
  },
  {
   "cell_type": "code",
   "execution_count": 16,
   "metadata": {},
   "outputs": [],
   "source": [
    "# Configuración de la red\n",
    "nx = 10\n",
    "neuronEntrada = 9\n",
    "neuronEscondida = 10\n",
    "neuronSalida = 10\n",
    "alpha = 0.1\n",
    "epoch = 10000"
   ]
  },
  {
   "cell_type": "code",
   "execution_count": 17,
   "metadata": {},
   "outputs": [],
   "source": [
    "# Ingreso de datos\n",
    "entrada = np.loadtxt('data/entrada.dat')\n",
    "salida = np.loadtxt('data/salida.dat')\n",
    "sort = np.array(range(nx))\n",
    "\n",
    "# Feedforward\n",
    "a2 = np.zeros(neuronEscondida, dtype=float)\n",
    "a3 = np.zeros(neuronSalida, dtype=float)\n",
    "\n",
    "# Deltas\n",
    "d2 = np.zeros (neuronEscondida, dtype=float)\n",
    "d3 = np.zeros (neuronSalida, dtype=float)"
   ]
  },
  {
   "cell_type": "code",
   "execution_count": 18,
   "metadata": {},
   "outputs": [],
   "source": [
    "# Función de activación\n",
    "def sigmoide(aux):\n",
    "    return (1 + np.exp(-aux))**(-1)"
   ]
  },
  {
   "cell_type": "code",
   "execution_count": 19,
   "metadata": {},
   "outputs": [],
   "source": [
    "# Pesos\n",
    "omega1 = np.ones((neuronEntrada+1, neuronEscondida), dtype=float)\n",
    "omega2 = np.ones((neuronEscondida+1, neuronSalida), dtype=float)\n",
    "\n",
    "for i in range(neuronEntrada):\n",
    "    for j in range(neuronEscondida):\n",
    "        omega1[i,j] = rm.uniform(-1,1)\n",
    "\n",
    "for i in range(neuronEscondida):\n",
    "    for j in range(neuronSalida):\n",
    "        omega2[i,j] = rm.uniform(-1,1)\n"
   ]
  },
  {
   "cell_type": "code",
   "execution_count": 24,
   "metadata": {},
   "outputs": [],
   "source": [
    "for k in range(epoch):\n",
    "    rm.shuffle(sort)\n",
    "\n",
    "    for d in range(nx):\n",
    "        Error = []\n",
    "        e = 0\n",
    "\n",
    "        # Capa E-H\n",
    "        for i in range(neuronEscondida):\n",
    "            a = 0\n",
    "\n",
    "            for j in range(neuronEntrada):\n",
    "                a = (entrada[sort[d],j] * omega1[j,i]) + a\n",
    "\n",
    "            a2[i] = sigmoide(a + omega1[neuronEntrada,i])\n",
    "\n",
    "        # Capa H-S\n",
    "        for i in range(neuronSalida):\n",
    "            a = 0\n",
    "\n",
    "            for j in range(neuronEscondida):\n",
    "                a = (a2[j] * omega2[j,i]) + a\n",
    "\n",
    "            a3[i] = sigmoide(a + omega2[neuronEscondida, i])\n",
    "\n",
    "    # Calculo de las Deltas\n",
    "        # D3 S-H\n",
    "        for i in range(neuronSalida):\n",
    "            d3[i] = a3[i] * (1-a3[i]) * (-(salida[sort[d],i] - a3[i]))\n",
    "        \n",
    "        # D2 H-E\n",
    "        for i in range(neuronEscondida):\n",
    "            aux = 0\n",
    "\n",
    "            for j in range(neuronSalida):\n",
    "                aux += omega2[i,j] * d3[j]\n",
    "            \n",
    "            d2[i] = a2[i] * (1 - a2[i]) * aux\n",
    "    \n",
    "    # Actualización de pesos\n",
    "        # omega1 y bias\n",
    "\n",
    "        for i in range(neuronEscondida):\n",
    "            for j in range(neuronEntrada):\n",
    "                omega1[j,i] -= alpha * entrada[sort[d],j] * d2[i]\n",
    "\n",
    "            omega1[neuronEntrada,i] -= alpha * d2[i]\n",
    "\n",
    "        # omega2 y bias\n",
    "        for i in range(neuronSalida):\n",
    "            for j in range(neuronEscondida):\n",
    "                omega2[j,i] -= alpha * a2[j] * d3[i]\n",
    "\n",
    "            omega2[neuronEscondida,i] -= alpha * d3[i]           \n"
   ]
  },
  {
   "cell_type": "code",
   "execution_count": null,
   "metadata": {},
   "outputs": [],
   "source": []
  },
  {
   "cell_type": "code",
   "execution_count": null,
   "metadata": {},
   "outputs": [],
   "source": []
  },
  {
   "cell_type": "code",
   "execution_count": null,
   "metadata": {},
   "outputs": [],
   "source": []
  },
  {
   "cell_type": "markdown",
   "metadata": {},
   "source": []
  }
 ],
 "metadata": {
  "kernelspec": {
   "display_name": "intelLab",
   "language": "python",
   "name": "python3"
  },
  "language_info": {
   "codemirror_mode": {
    "name": "ipython",
    "version": 3
   },
   "file_extension": ".py",
   "mimetype": "text/x-python",
   "name": "python",
   "nbconvert_exporter": "python",
   "pygments_lexer": "ipython3",
   "version": "3.9.12"
  },
  "orig_nbformat": 4,
  "vscode": {
   "interpreter": {
    "hash": "6cc34d428a4ad802564681bfdb8f51a80073352fb040ebfcbc52edf21210148e"
   }
  }
 },
 "nbformat": 4,
 "nbformat_minor": 2
}
